{
 "cells": [
  {
   "cell_type": "code",
   "execution_count": 24,
   "metadata": {},
   "outputs": [],
   "source": [
    "from tensorflow.keras import models\n",
    "from tensorflow.keras.layers import Dense, Dropout, BatchNormalization\n",
    "from tensorflow.keras.optimizers import RMSprop\n",
    "from tensorflow.keras.callbacks import EarlyStopping,TensorBoard\n",
    "import matplotlib.pyplot as plt\n",
    "\n",
    "import pandas as pd\n",
    "from sklearn.preprocessing import LabelEncoder\n",
    "import sklearn as skl \n",
    "import ast\n",
    "import numpy as np\n",
    "import utils"
   ]
  },
  {
   "cell_type": "code",
   "execution_count": 109,
   "metadata": {},
   "outputs": [],
   "source": [
    "def build_model(shape):\n",
    "  \n",
    "    model = models.Sequential()\n",
    "    \n",
    "    model.add(Dense(128, input_dim=shape, activation='relu'))\n",
    "    model.add(Dropout(0.4))\n",
    "    \n",
    "    model.add(Dense(64, activation='relu'))\n",
    "    model.add(Dropout(0.2))\n",
    "\n",
    "    model.add(Dense(8, activation='softmax'))\n",
    "\n",
    "    model.compile(optimizer='RMSprop', loss='sparse_categorical_crossentropy', metrics=['accuracy'])\n",
    "\n",
    "    model.summary()\n",
    "    \n",
    "    return model"
   ]
  },
  {
   "cell_type": "code",
   "execution_count": 3,
   "metadata": {},
   "outputs": [],
   "source": [
    "genres = utils.load('audio_files\\\\genres.csv')\n",
    "features = utils.load('audio_files\\\\features.csv')\n",
    "echonest = utils.load('audio_files\\\\echonest.csv')"
   ]
  },
  {
   "cell_type": "code",
   "execution_count": 4,
   "metadata": {},
   "outputs": [],
   "source": [
    "from pandas.api.types import CategoricalDtype\n",
    "\n",
    "tracks = pd.read_csv('audio_files\\\\tracks.csv', index_col=0, header=[0, 1])\n",
    "\n",
    "COLUMNS = [('track', 'tags'), ('album', 'tags'), ('artist', 'tags'),('track', 'genres'), ('track', 'genres_all')]\n",
    "for column in COLUMNS:\n",
    "  tracks[column] = tracks[column].map(ast.literal_eval)\n",
    "\n",
    "COLUMNS = [('track', 'date_created'), ('track', 'date_recorded'),\n",
    "           ('album', 'date_created'), ('album', 'date_released'),\n",
    "           ('artist', 'date_created'), ('artist', 'active_year_begin'),\n",
    "           ('artist', 'active_year_end')]\n",
    "for column in COLUMNS:\n",
    "  tracks[column] = pd.to_datetime(tracks[column])\n",
    "    \n",
    "SUBSETS = ('small', 'medium', 'large')\n",
    "tracks['set', 'subset'] = tracks['set', 'subset'].astype(CategoricalDtype(categories=SUBSETS, ordered=True))\n",
    "COLUMNS = [('track', 'genre_top'), ('track', 'license'),\n",
    "           ('album', 'type'), ('album', 'information'),('artist', 'bio')]\n",
    "for column in COLUMNS:\n",
    "  tracks[column] = tracks[column].astype('category')"
   ]
  },
  {
   "cell_type": "code",
   "execution_count": 26,
   "metadata": {},
   "outputs": [],
   "source": [
    "np.testing.assert_array_equal(features.index, tracks.index)\n",
    "assert echonest.index.isin(tracks.index).all()"
   ]
  },
  {
   "cell_type": "code",
   "execution_count": 27,
   "metadata": {},
   "outputs": [],
   "source": [
    "small = tracks['set', 'subset'] <= 'small'\n",
    "train = tracks['set', 'split'] == 'training'\n",
    "val = tracks['set', 'split'] == 'validation'\n",
    "test = tracks['set', 'split'] == 'test'"
   ]
  },
  {
   "cell_type": "code",
   "execution_count": 53,
   "metadata": {},
   "outputs": [
    {
     "name": "stdout",
     "output_type": "stream",
     "text": [
      "Pour 85 facteurs :  0.7986096620824791  de l information est expliquee\n",
      "\n",
      "Pour 151 facteurs :  0.8995184044042367  de l information est expliquee\n",
      "\n",
      "Pour 215 facteurs :  0.9495558183020659  de l information est expliquee\n",
      "\n",
      "Pour 518 facteurs :  0.9999999999999999  de l information est expliquee\n",
      "\n"
     ]
    }
   ],
   "source": [
    "from sklearn.preprocessing import StandardScaler\n",
    "\n",
    "features_p = StandardScaler().fit_transform(features)\n",
    "\n",
    "from sklearn import decomposition\n",
    "\n",
    "PCA85 = decomposition.PCA(n_components=85)\n",
    "PCA151 = decomposition.PCA(n_components=151)\n",
    "PCA215 =decomposition.PCA(n_components=215)\n",
    "PCA518 =decomposition.PCA(n_components=518)\n",
    "\n",
    "pComponents85 = PCA85.fit_transform(features_p)\n",
    "pComponents151 = PCA151.fit_transform(features_p)\n",
    "pComponents215 = PCA215.fit_transform(features_p)\n",
    "pComponents518 = PCA518.fit_transform(features_p)\n",
    "\n",
    "print('Pour 85 facteurs : ',PCA85.explained_variance_ratio_.sum(),' de l information est expliquee\\n')\n",
    "print('Pour 151 facteurs : ',PCA151.explained_variance_ratio_.sum(),' de l information est expliquee\\n')\n",
    "print('Pour 215 facteurs : ',PCA215.explained_variance_ratio_.sum(),' de l information est expliquee\\n')\n",
    "print('Pour 518 facteurs : ',PCA518.explained_variance_ratio_.sum(),' de l information est expliquee\\n')"
   ]
  },
  {
   "cell_type": "code",
   "execution_count": 54,
   "metadata": {},
   "outputs": [],
   "source": [
    "principalDf151 = pd.DataFrame(data = pComponents151,index=tracks.index)\n",
    "principalDf85 = pd.DataFrame(data = pComponents85,index=tracks.index)\n",
    "principalDf215 = pd.DataFrame(data = pComponents215,index=tracks.index)\n",
    "principalDf518 = pd.DataFrame(data = pComponents518,index=tracks.index)"
   ]
  },
  {
   "cell_type": "code",
   "execution_count": 55,
   "metadata": {},
   "outputs": [],
   "source": [
    "X_train = principalDf518.loc[small & train]\n",
    "X_val = principalDf518.loc[small & val]\n",
    "X_test = principalDf518.loc[small & test]\n",
    "y_train = tracks.loc[small & train, ('track', 'genre_top')]\n",
    "y_val = tracks.loc[small & val, ('track', 'genre_top')]\n",
    "y_test = tracks.loc[small & test, ('track', 'genre_top')]"
   ]
  },
  {
   "cell_type": "code",
   "execution_count": 56,
   "metadata": {},
   "outputs": [],
   "source": [
    "dict_genre = {\n",
    "    'Hip-Hop': 0,\n",
    "    'Pop': 1,\n",
    "    'Folk': 2,\n",
    "    'Rock': 3,\n",
    "    'Experimental': 4,\n",
    "    'International': 5,\n",
    "    'Electronic': 6,\n",
    "    'Instrumental': 7,\n",
    "}\n",
    "inv_genre_dict = {v: k for k, v in dict_genre.items()}\n",
    "genre_names = [inv_genre_dict[i] for i in range(8)]"
   ]
  },
  {
   "cell_type": "code",
   "execution_count": 57,
   "metadata": {},
   "outputs": [
    {
     "data": {
      "text/plain": [
       "array(['Electronic', 'Experimental', 'Folk', 'Hip-Hop', 'Instrumental',\n",
       "       'International', 'Pop', 'Rock'], dtype=object)"
      ]
     },
     "execution_count": 57,
     "metadata": {},
     "output_type": "execute_result"
    }
   ],
   "source": [
    "# X_train,y_train = skl.utils.shuffle(X_train,y_train,random_state=34)\n",
    "\n",
    "X_train_mod=np.asarray(X_train)\n",
    "X_test_mod=np.asarray(X_test)\n",
    "X_val_mod = np.asarray(X_val)\n",
    "\n",
    "# y_train_mod=np.asarray(y_train.replace(dict_genre))\n",
    "# y_test_mod=np.asarray(y_test.replace(dict_genre))\n",
    "# y_val_mod = np.asarray(y_val.replace(dict_genre))\n",
    "le = LabelEncoder()\n",
    "y_train_mod=le.fit_transform(y_train)\n",
    "y_test_mod=le.fit_transform(y_test)\n",
    "y_val_mod = le.fit_transform(y_val)\n",
    "le.classes_"
   ]
  },
  {
   "cell_type": "code",
   "execution_count": 58,
   "metadata": {},
   "outputs": [
    {
     "data": {
      "text/plain": [
       "((6400, 518), (800, 518), (6400,), (800,), array([3, 3, 6, ..., 6, 6, 3]))"
      ]
     },
     "execution_count": 58,
     "metadata": {},
     "output_type": "execute_result"
    }
   ],
   "source": [
    "X_train.shape,X_test.shape,y_train.shape,y_test.shape , y_train_mod"
   ]
  },
  {
   "cell_type": "code",
   "execution_count": 11,
   "metadata": {},
   "outputs": [],
   "source": [
    "# model = build_model(X_train.shape[1])\n",
    "# es_callback = EarlyStopping(monitor='val_loss', patience=10)\n",
    "# history = model.fit(X_train_mod,\n",
    "#                     y_train_mod,\n",
    "#                     epochs=120,\n",
    "#                     batch_size=128,\n",
    "#                     validation_data= (X_val_mod, y_val_mod),\n",
    "#                     callbacks=[es_callback])"
   ]
  },
  {
   "cell_type": "code",
   "execution_count": 12,
   "metadata": {},
   "outputs": [],
   "source": [
    "# score = model.evaluate(x=X_test_mod, y=y_test_mod)\n",
    "# print('Test loss:', score[0])\n",
    "# print('Test accuracy:', score[1])"
   ]
  },
  {
   "cell_type": "code",
   "execution_count": 18,
   "metadata": {},
   "outputs": [],
   "source": [
    "# from sklearn.preprocessing import StandardScaler\n",
    "\n",
    "# X_train = StandardScaler().fit_transform(X_train)"
   ]
  },
  {
   "cell_type": "code",
   "execution_count": 19,
   "metadata": {},
   "outputs": [],
   "source": [
    "# from sklearn import decomposition\n",
    "\n",
    "# PCA85 = decomposition.PCA(n_components=85)\n",
    "# PCA151 = decomposition.PCA(n_components=151)\n",
    "# PCA215 =decomposition.PCA(n_components=215)\n",
    "# PCA518 =decomposition.PCA(n_components=518)"
   ]
  },
  {
   "cell_type": "code",
   "execution_count": 22,
   "metadata": {},
   "outputs": [],
   "source": [
    "# pComponents85_tr = PCA85.fit_transform(X_train)\n",
    "# pComponents151_tr = PCA151.fit_transform(X_train)\n",
    "# pComponents215_tr = PCA215.fit_transform(X_train)\n",
    "# pComponents518_tr = PCA518.fit_transform(X_train)"
   ]
  },
  {
   "cell_type": "code",
   "execution_count": 51,
   "metadata": {},
   "outputs": [],
   "source": [
    "# print('Pour 85 facteurs : ',PCA85.explained_variance_ratio_.sum(),' de l information est expliquee\\n')\n",
    "# print('Pour 151 facteurs : ',PCA151.explained_variance_ratio_.sum(),' de l information est expliquee\\n')\n",
    "# print('Pour 215 facteurs : ',PCA215.explained_variance_ratio_.sum(),' de l information est expliquee\\n')\n",
    "# print('Pour 518 facteurs : ',PCA518.explained_variance_ratio_.sum(),' de l information est expliquee\\n')"
   ]
  },
  {
   "cell_type": "code",
   "execution_count": 52,
   "metadata": {},
   "outputs": [
    {
     "data": {
      "text/plain": [
       "((106574, 85), (106574, 151), (106574, 215), (800, 518))"
      ]
     },
     "execution_count": 52,
     "metadata": {},
     "output_type": "execute_result"
    }
   ],
   "source": [
    "# principalDf151 = pd.DataFrame(data = pComponents151)\n",
    "# principalDf85 = pd.DataFrame(data = pComponents85)\n",
    "# principalDf215 = pd.DataFrame(data = pComponents215)\n",
    "\n",
    "# principalDf85.shape,principalDf151.shape,principalDf215.shape,pComponents518_v.shape"
   ]
  },
  {
   "cell_type": "code",
   "execution_count": 110,
   "metadata": {},
   "outputs": [
    {
     "name": "stdout",
     "output_type": "stream",
     "text": [
      "Model: \"sequential_15\"\n",
      "_________________________________________________________________\n",
      "Layer (type)                 Output Shape              Param #   \n",
      "=================================================================\n",
      "dense_49 (Dense)             (None, 128)               66432     \n",
      "_________________________________________________________________\n",
      "dropout_34 (Dropout)         (None, 128)               0         \n",
      "_________________________________________________________________\n",
      "dense_50 (Dense)             (None, 64)                8256      \n",
      "_________________________________________________________________\n",
      "dropout_35 (Dropout)         (None, 64)                0         \n",
      "_________________________________________________________________\n",
      "dense_51 (Dense)             (None, 8)                 520       \n",
      "=================================================================\n",
      "Total params: 75,208\n",
      "Trainable params: 75,208\n",
      "Non-trainable params: 0\n",
      "_________________________________________________________________\n",
      "Train on 6400 samples, validate on 800 samples\n",
      "Epoch 1/120\n",
      "6400/6400 [==============================] - 1s 129us/sample - loss: 1.9772 - accuracy: 0.2836 - val_loss: 1.5707 - val_accuracy: 0.4387\n",
      "Epoch 2/120\n",
      "6400/6400 [==============================] - 0s 31us/sample - loss: 1.5700 - accuracy: 0.4369 - val_loss: 1.4030 - val_accuracy: 0.5113\n",
      "Epoch 3/120\n",
      "6400/6400 [==============================] - 0s 29us/sample - loss: 1.4124 - accuracy: 0.5019 - val_loss: 1.3341 - val_accuracy: 0.5312\n",
      "Epoch 4/120\n",
      "6400/6400 [==============================] - 0s 32us/sample - loss: 1.2979 - accuracy: 0.5431 - val_loss: 1.3209 - val_accuracy: 0.5163\n",
      "Epoch 5/120\n",
      "6400/6400 [==============================] - 0s 31us/sample - loss: 1.2048 - accuracy: 0.5722 - val_loss: 1.2854 - val_accuracy: 0.5412\n",
      "Epoch 6/120\n",
      "6400/6400 [==============================] - 0s 32us/sample - loss: 1.1387 - accuracy: 0.6017 - val_loss: 1.2750 - val_accuracy: 0.5425\n",
      "Epoch 7/120\n",
      "6400/6400 [==============================] - 0s 31us/sample - loss: 1.0735 - accuracy: 0.6183 - val_loss: 1.3000 - val_accuracy: 0.5387\n",
      "Epoch 8/120\n",
      "6400/6400 [==============================] - 0s 31us/sample - loss: 1.0208 - accuracy: 0.6384 - val_loss: 1.2986 - val_accuracy: 0.5512\n",
      "Epoch 9/120\n",
      "6400/6400 [==============================] - 0s 31us/sample - loss: 0.9935 - accuracy: 0.6516 - val_loss: 1.3132 - val_accuracy: 0.5425\n",
      "Epoch 10/120\n",
      "6400/6400 [==============================] - 0s 32us/sample - loss: 0.9506 - accuracy: 0.6689 - val_loss: 1.2954 - val_accuracy: 0.5675\n",
      "Epoch 11/120\n",
      "6400/6400 [==============================] - 0s 32us/sample - loss: 0.9167 - accuracy: 0.6823 - val_loss: 1.2953 - val_accuracy: 0.5600\n",
      "Epoch 12/120\n",
      "6400/6400 [==============================] - 0s 31us/sample - loss: 0.8725 - accuracy: 0.6994 - val_loss: 1.3023 - val_accuracy: 0.5600\n",
      "Epoch 13/120\n",
      "6400/6400 [==============================] - 0s 31us/sample - loss: 0.8331 - accuracy: 0.7172 - val_loss: 1.3116 - val_accuracy: 0.5663\n",
      "Epoch 14/120\n",
      "6400/6400 [==============================] - 0s 31us/sample - loss: 0.8157 - accuracy: 0.7131 - val_loss: 1.3270 - val_accuracy: 0.5638\n",
      "Epoch 15/120\n",
      "6400/6400 [==============================] - 0s 31us/sample - loss: 0.8020 - accuracy: 0.7211 - val_loss: 1.3589 - val_accuracy: 0.5575\n",
      "Epoch 16/120\n",
      "6400/6400 [==============================] - 0s 31us/sample - loss: 0.7561 - accuracy: 0.7325 - val_loss: 1.3745 - val_accuracy: 0.5725\n",
      "Epoch 17/120\n",
      "6400/6400 [==============================] - 0s 31us/sample - loss: 0.7178 - accuracy: 0.7545 - val_loss: 1.3890 - val_accuracy: 0.5713\n",
      "Epoch 18/120\n",
      "6400/6400 [==============================] - 0s 29us/sample - loss: 0.7105 - accuracy: 0.7506 - val_loss: 1.3958 - val_accuracy: 0.5612\n",
      "Epoch 19/120\n",
      "6400/6400 [==============================] - 0s 29us/sample - loss: 0.6709 - accuracy: 0.7636 - val_loss: 1.4569 - val_accuracy: 0.5612\n",
      "Epoch 20/120\n",
      "6400/6400 [==============================] - 0s 31us/sample - loss: 0.6517 - accuracy: 0.7734 - val_loss: 1.4269 - val_accuracy: 0.5600\n",
      "Epoch 21/120\n",
      "6400/6400 [==============================] - 0s 32us/sample - loss: 0.6367 - accuracy: 0.7772 - val_loss: 1.4644 - val_accuracy: 0.5638\n",
      "Epoch 22/120\n",
      "6400/6400 [==============================] - 0s 29us/sample - loss: 0.6067 - accuracy: 0.7898 - val_loss: 1.4786 - val_accuracy: 0.5700\n",
      "Epoch 23/120\n",
      "6400/6400 [==============================] - 0s 31us/sample - loss: 0.6038 - accuracy: 0.7912 - val_loss: 1.4779 - val_accuracy: 0.5763\n",
      "Epoch 24/120\n",
      "6400/6400 [==============================] - 0s 31us/sample - loss: 0.5777 - accuracy: 0.7925 - val_loss: 1.5033 - val_accuracy: 0.5663\n",
      "Epoch 25/120\n",
      "6400/6400 [==============================] - 0s 32us/sample - loss: 0.5541 - accuracy: 0.8073 - val_loss: 1.5625 - val_accuracy: 0.5625\n",
      "Epoch 26/120\n",
      "6400/6400 [==============================] - 0s 33us/sample - loss: 0.5286 - accuracy: 0.8141 - val_loss: 1.5706 - val_accuracy: 0.5663\n",
      "Epoch 27/120\n",
      "6400/6400 [==============================] - 0s 33us/sample - loss: 0.5188 - accuracy: 0.8164 - val_loss: 1.6163 - val_accuracy: 0.5650\n",
      "Epoch 28/120\n",
      "6400/6400 [==============================] - 0s 32us/sample - loss: 0.5027 - accuracy: 0.8272 - val_loss: 1.6748 - val_accuracy: 0.5525\n",
      "Epoch 29/120\n",
      "6400/6400 [==============================] - 0s 32us/sample - loss: 0.5007 - accuracy: 0.8208 - val_loss: 1.6986 - val_accuracy: 0.5562\n",
      "Epoch 30/120\n",
      "6400/6400 [==============================] - 0s 33us/sample - loss: 0.4664 - accuracy: 0.8373 - val_loss: 1.7278 - val_accuracy: 0.5587\n",
      "Epoch 31/120\n",
      "6400/6400 [==============================] - 0s 30us/sample - loss: 0.4581 - accuracy: 0.8355 - val_loss: 1.8064 - val_accuracy: 0.5400\n",
      "Epoch 32/120\n",
      "6400/6400 [==============================] - 0s 32us/sample - loss: 0.4618 - accuracy: 0.8388 - val_loss: 1.7595 - val_accuracy: 0.5550\n",
      "Epoch 33/120\n",
      "6400/6400 [==============================] - 0s 31us/sample - loss: 0.4437 - accuracy: 0.8420 - val_loss: 1.7693 - val_accuracy: 0.5450\n",
      "Epoch 34/120\n",
      "6400/6400 [==============================] - 0s 31us/sample - loss: 0.4288 - accuracy: 0.8548 - val_loss: 1.8275 - val_accuracy: 0.5475\n",
      "Epoch 35/120\n",
      "6400/6400 [==============================] - 0s 32us/sample - loss: 0.4086 - accuracy: 0.8594 - val_loss: 1.8794 - val_accuracy: 0.5500\n",
      "Epoch 36/120\n",
      "6400/6400 [==============================] - 0s 31us/sample - loss: 0.4160 - accuracy: 0.8544 - val_loss: 1.8707 - val_accuracy: 0.5412\n"
     ]
    }
   ],
   "source": [
    "tb_hist = TensorBoard(log_dir='.', histogram_freq=0, write_graph=True, write_images=True)\n",
    "\n",
    "model = build_model(X_train.shape[1])\n",
    "es_callback = EarlyStopping(monitor='val_loss', patience=30)\n",
    "history = model.fit(X_train_mod,\n",
    "                    y_train_mod,\n",
    "                    epochs=120,\n",
    "                    batch_size=128,\n",
    "                    shuffle=True,\n",
    "                    validation_data= (X_val_mod, y_val_mod),\n",
    "                    callbacks=[es_callback])"
   ]
  },
  {
   "cell_type": "code",
   "execution_count": 111,
   "metadata": {
    "scrolled": true
   },
   "outputs": [
    {
     "data": {
      "image/png": "[encoded data removed]",
      "text/plain": [
       "<Figure size 864x576 with 1 Axes>"
      ]
     },
     "metadata": {
      "needs_background": "light"
     },
     "output_type": "display_data"
    },
    {
     "name": "stdout",
     "output_type": "stream",
     "text": [
      "\r",
      "800/1 [================================================================================================================================================================================================================================================================================================================================================================================================================================================================================================================================================================================================================================================================================================================================================================================================================================================================================================================================================================================================================================================================================================================================================================================================================================================================================================================================================================================================================================================================================================================================================================================================================================================================================================================================================================================================================================================================================================================================================================================================================================================================================================================================================================================================================================================================================================================================================================================================================================================================================================================================================================================================================================================================================================================================================================================================================================================================================================================================================================================================================================================================================================================================================================================================================================================================================================================================================================================================================================================================================================================================================================================================================================================================================================================================================================================================================================================================================================================================================================================================================================================================================================================================================================================================================================================================================================================================================================================================================================================================================================================================================================================================================================================================================================================================================================================================================================================================================================================================================================================================================================================================================================================================================================================================================================================================================================================================================================================================================================================================================================================================================================================================================================================================================================================================================================================================================================================================================================================================================================================================================================================================================================================================================================================================================================================================================================================================================================================================================================================================================================================================================================================================================================================================================================================================================================================================================================================================================================================================================================================================================================================================================================================================================================================================================================================================================================================================================================================================================================================================================================================================================================================================================================================================================================================================================================================================================================================================================================================================================================================================================================================================================================================================================================================================================================================================================================================================================================================================================================================================================================================================================================================================================================================================================================================================================================================================================================================================================================================================================================================================================================================================================================================================================================================================================================================================================================================================================================================================================================================================================================================================================================================================================================================================================================================================================================================================================================================================================================================================================================================================================================================================================================================================================================================================================================================================================================================================================================================================================================================================================================================================================================================================================================================================================================================================================================================================================================================================================================================================================================================================================================================================================================================================================================================================================================================================================================================================================================================================================================================================================================================================================================================================================================================================================================================================================================================================================================================================================================================================================================================================================================================================================================================================================================================================================================================================================================================================================================================================================================================================================================================================================================================================================================================================================================================================================================================================================================================================================================================================================================================================================================================================================================================================================================================================================================================================================================================================================================================================================================================================================================================================================================================================================================================================================================================================================================================================================================================================================================================================================================================================================================================================================================================================================================================================================================================================================================================================================================================================================================================================================================================================================================================================================================================================================================================================================================================================================================================================================================================================================================================================================================================================================================================================================================================================================================================================================================================================================================================================================================================================================================================================================================================================================================================================================================================================================================================================================================================================================================================================================================================================================================================================================================================================================================================================================================================================================================================================================================================================================================================================================================================================================================================================================================================================================================================================================================================================================================================================================================================================================================================================================================================================================================================================================================================================================================================================================================================================================================================================================================================================================================================================================================================================================================================================================================================================================================================================================================================================================================================================================================================================================================================================================================================================================================================================================================================================================================================================================================================================================================================================================================================================================================================================================================================================================================================================================================================================================================================================================================================================================================================================================================================================================================================================================================================================================================================================================================================================================================================================================================================================================================================================================================================================================================================================================================================================================================================================================================================================================================================================================================================================================================================================================================================================================================================================================================================================================================================================================================================================================================================================================================================================================================================================================================================================================================================================================================================================================================================================================================================================================================================================================================================================================================================================================================================================================================================================================================================================================================================================================================================================================================================================================================================================================================================================================================================================================================================================================================================================================================================================================================================================================================================================================================================================================================================================================================================================================================================================================================================================================================================================================================================================================================================================================================================================================================================================================================================================================================================================================================================================================================================================================================================================================================================================================================================================================================================================================================================================================================================================================================================================================================================================================================================================================================================================================================================================================================================================================================================================================================================================================================================================================================================================================================================================================================================================================================================================================================================================================================================================================================================================================================================================================================================================================================================================================================================================================================================================================================================================================================================================================================================================] - 0s 181us/sample - loss: 2.1373 - accuracy: 0.4525\n"
     ]
    }
   ],
   "source": [
    "plt.figure(figsize=(12,8))\n",
    "plt.plot(history.history['loss'])\n",
    "plt.plot(history.history['val_loss'])\n",
    "plt.plot(history.history['accuracy'])\n",
    "plt.plot(history.history['val_accuracy'])\n",
    "plt.legend(['loss','val_loss', 'acc','val_acc'])\n",
    "plt.show()\n",
    "\n",
    "score = model.evaluate(x=X_test_mod, y=y_test_mod)"
   ]
  },
  {
   "cell_type": "code",
   "execution_count": 112,
   "metadata": {},
   "outputs": [
    {
     "name": "stdout",
     "output_type": "stream",
     "text": [
      "Test loss: 2.3508206272125243\n",
      "Test accuracy: 0.4525\n"
     ]
    }
   ],
   "source": [
    "print('Test loss:', score[0])\n",
    "print('Test accuracy:', score[1])"
   ]
  },
  {
   "cell_type": "code",
   "execution_count": null,
   "metadata": {},
   "outputs": [],
   "source": []
  }
 ],
 "metadata": {
  "kernelspec": {
   "display_name": "Python 3",
   "language": "python",
   "name": "python3"
  },
  "language_info": {
   "codemirror_mode": {
    "name": "ipython",
    "version": 3
   },
   "file_extension": ".py",
   "mimetype": "text/x-python",
   "name": "python",
   "nbconvert_exporter": "python",
   "pygments_lexer": "ipython3",
   "version": "3.7.6"
  }
 },
 "nbformat": 4,
 "nbformat_minor": 2
}
